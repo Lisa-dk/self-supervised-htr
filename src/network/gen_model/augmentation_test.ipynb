{
 "cells": [
  {
   "cell_type": "code",
   "execution_count": 1,
   "metadata": {},
   "outputs": [
    {
     "name": "stdout",
     "output_type": "stream",
     "text": [
      "['data', 'htr_model.model', 'htr_models', 'loss_saver.py', 'main.py', 'network', 'results', 'saved_losses', 'test.ipynb', 'trainer.py', '__pycache__']\n",
      "c:\\Users\\Lisa\\Documents\\GitHub\\handwriting-recognition\\src\\network\\gen_model\n",
      "c:\\Users\\Lisa\\Documents\\GitHub\\handwriting-recognition\\src\\network\\gen_model\n"
     ]
    }
   ],
   "source": [
    "import os, sys\n",
    "print(os.listdir('../../'))\n",
    "print(os.getcwd())\n",
    "sys.path.append(\"../../\")\n",
    "print(os.getcwd())\n",
    "import torch\n",
    "import glob\n",
    "from torch import optim\n",
    "import numpy as np\n",
    "from data.tokenizer import Tokenizer\n",
    "import string\n",
    "import os, sys\n",
    "import torch.utils.data as D\n",
    "import cv2\n",
    "import numpy as np\n",
    "from torchvision import transforms\n",
    "from gen_model import GenModel_FC\n",
    "\n"
   ]
  },
  {
   "cell_type": "code",
   "execution_count": 2,
   "metadata": {},
   "outputs": [],
   "source": [
    "img_paths = [\"../data/rimes/words/valid/lot_14/01353_L/01353_L_3_5.tiff\", \"../data/rimes/words/valid/lot_14/01353_L/01353_L_3_6.tiff\", \"../data/rimes/words/valid/lot_14/01353_L/01353_L_3_7.tiff\",\n",
    "             \"../data/rimes/words/valid/lot_14/01353_L/01353_L_3_8.tiff\", \"../data/rimes/words/valid/lot_14/01353_L/01353_L_3_9.tiff\", \"../data/rimes/words/valid/lot_14/01353_L/01353_L_3_10.tiff\",\n",
    "             \"../data/rimes/words/valid/lot_14/01353_L/01353_L_3_11.tiff\", \"../data/rimes/words/valid/lot_14/01353_L/01353_L_4_0.tiff\", \"../data/rimes/words/valid/lot_14/01353_L/01353_L_4_1.tiff\",\n",
    "             \"../data/rimes/words/valid/lot_14/01353_L/01353_L_4_2.tiff\", \"../data/rimes/words/valid/lot_14/01353_L/01353_L_4_3.tiff\", \"../data/rimes/words/valid/lot_14/01353_L/01353_L_4_4.tiff\"]\n",
    "\n",
    "labels = [\"important\", \"je\", \"vous\", \"prie\", \"bien\", \"vouloir\", \"envoyer\", \"vos\", \"agents\", \"effectuer\", \"un\", \"relevé\"]"
   ]
  },
  {
   "cell_type": "code",
   "execution_count": 3,
   "metadata": {},
   "outputs": [],
   "source": [
    "def copy_style_imgs(single_img):\n",
    "    final_img = [single_img[:]]\n",
    "\n",
    "    while len(final_img) < 15:\n",
    "        num_cp = 15 - len(final_img)\n",
    "        final_img = final_img + final_img[:num_cp]\n",
    "\n",
    "    final_img = np.stack(final_img, axis=0)\n",
    "\n",
    "    return np.asarray(final_img, dtype=\"float32\")"
   ]
  },
  {
   "cell_type": "code",
   "execution_count": 4,
   "metadata": {},
   "outputs": [],
   "source": [
    "charset_base = string.ascii_lowercase + string.ascii_uppercase\n",
    "max_text_length = 25\n",
    "tokenizer = Tokenizer(chars=charset_base, max_text_length=max_text_length, self_supervised=1)"
   ]
  },
  {
   "cell_type": "code",
   "execution_count": 5,
   "metadata": {},
   "outputs": [
    {
     "data": {
      "text/plain": [
       "GenModel_FC(\n",
       "  (enc_image): RecursiveScriptModule(\n",
       "    original_name=ImageEncoder\n",
       "    (model): RecursiveScriptModule(\n",
       "      original_name=VGG\n",
       "      (features): RecursiveScriptModule(\n",
       "        original_name=Sequential\n",
       "        (0): RecursiveScriptModule(original_name=Conv2d)\n",
       "        (1): RecursiveScriptModule(original_name=InstanceNorm2d)\n",
       "        (2): RecursiveScriptModule(original_name=ReLU)\n",
       "        (3): RecursiveScriptModule(original_name=Conv2d)\n",
       "        (4): RecursiveScriptModule(original_name=InstanceNorm2d)\n",
       "        (5): RecursiveScriptModule(original_name=ReLU)\n",
       "        (6): RecursiveScriptModule(original_name=Conv2d)\n",
       "        (7): RecursiveScriptModule(original_name=InstanceNorm2d)\n",
       "        (8): RecursiveScriptModule(original_name=ReLU)\n",
       "        (9): RecursiveScriptModule(original_name=Conv2d)\n",
       "        (10): RecursiveScriptModule(original_name=InstanceNorm2d)\n",
       "        (11): RecursiveScriptModule(original_name=ReLU)\n",
       "        (12): RecursiveScriptModule(original_name=MaxPool2d)\n",
       "        (13): RecursiveScriptModule(original_name=Conv2d)\n",
       "        (14): RecursiveScriptModule(original_name=InstanceNorm2d)\n",
       "        (15): RecursiveScriptModule(original_name=ReLU)\n",
       "        (16): RecursiveScriptModule(original_name=Conv2d)\n",
       "        (17): RecursiveScriptModule(original_name=InstanceNorm2d)\n",
       "        (18): RecursiveScriptModule(original_name=ReLU)\n",
       "        (19): RecursiveScriptModule(original_name=Conv2d)\n",
       "        (20): RecursiveScriptModule(original_name=InstanceNorm2d)\n",
       "        (21): RecursiveScriptModule(original_name=ReLU)\n",
       "        (22): RecursiveScriptModule(original_name=Conv2d)\n",
       "        (23): RecursiveScriptModule(original_name=InstanceNorm2d)\n",
       "        (24): RecursiveScriptModule(original_name=ReLU)\n",
       "        (25): RecursiveScriptModule(original_name=MaxPool2d)\n",
       "        (26): RecursiveScriptModule(original_name=Conv2d)\n",
       "        (27): RecursiveScriptModule(original_name=InstanceNorm2d)\n",
       "        (28): RecursiveScriptModule(original_name=ReLU)\n",
       "        (29): RecursiveScriptModule(original_name=Conv2d)\n",
       "        (30): RecursiveScriptModule(original_name=InstanceNorm2d)\n",
       "        (31): RecursiveScriptModule(original_name=ReLU)\n",
       "        (32): RecursiveScriptModule(original_name=Conv2d)\n",
       "        (33): RecursiveScriptModule(original_name=InstanceNorm2d)\n",
       "        (34): RecursiveScriptModule(original_name=ReLU)\n",
       "        (35): RecursiveScriptModule(original_name=Conv2d)\n",
       "        (36): RecursiveScriptModule(original_name=InstanceNorm2d)\n",
       "        (37): RecursiveScriptModule(original_name=ReLU)\n",
       "        (38): RecursiveScriptModule(original_name=MaxPool2d)\n",
       "        (39): RecursiveScriptModule(original_name=Conv2d)\n",
       "        (40): RecursiveScriptModule(original_name=InstanceNorm2d)\n",
       "        (41): RecursiveScriptModule(original_name=ReLU)\n",
       "        (42): RecursiveScriptModule(original_name=Conv2d)\n",
       "        (43): RecursiveScriptModule(original_name=InstanceNorm2d)\n",
       "        (44): RecursiveScriptModule(original_name=ReLU)\n",
       "        (45): RecursiveScriptModule(original_name=Conv2d)\n",
       "        (46): RecursiveScriptModule(original_name=InstanceNorm2d)\n",
       "        (47): RecursiveScriptModule(original_name=ReLU)\n",
       "        (48): RecursiveScriptModule(original_name=Conv2d)\n",
       "        (49): RecursiveScriptModule(original_name=InstanceNorm2d)\n",
       "        (50): RecursiveScriptModule(original_name=ReLU)\n",
       "      )\n",
       "    )\n",
       "  )\n",
       "  (enc_text): TextEncoder_FC(\n",
       "    (fc): Sequential(\n",
       "      (0): Linear(in_features=1512, out_features=1024, bias=True)\n",
       "      (1): BatchNorm1d(1024, eps=1e-05, momentum=0.1, affine=True, track_running_stats=True)\n",
       "      (2): ReLU()\n",
       "      (3): Linear(in_features=1024, out_features=2048, bias=True)\n",
       "      (4): BatchNorm1d(2048, eps=1e-05, momentum=0.1, affine=True, track_running_stats=True)\n",
       "      (5): ReLU()\n",
       "      (6): Linear(in_features=2048, out_features=4096, bias=True)\n",
       "    )\n",
       "    (linear): Linear(in_features=56, out_features=512, bias=True)\n",
       "  )\n",
       "  (dec): Decoder(\n",
       "    (model): Sequential(\n",
       "      (0): ResBlocks(\n",
       "        (model): Sequential(\n",
       "          (0): ResBlock(\n",
       "            (model): Sequential(\n",
       "              (0): Conv2dBlock(\n",
       "                (pad): ReflectionPad2d((1, 1, 1, 1))\n",
       "                (norm): AdaptiveInstanceNorm2d(512)\n",
       "                (activation): ReLU()\n",
       "                (conv): Conv2d(512, 512, kernel_size=(3, 3), stride=(1, 1))\n",
       "              )\n",
       "              (1): Conv2dBlock(\n",
       "                (pad): ReflectionPad2d((1, 1, 1, 1))\n",
       "                (norm): AdaptiveInstanceNorm2d(512)\n",
       "                (conv): Conv2d(512, 512, kernel_size=(3, 3), stride=(1, 1))\n",
       "              )\n",
       "            )\n",
       "          )\n",
       "          (1): ResBlock(\n",
       "            (model): Sequential(\n",
       "              (0): Conv2dBlock(\n",
       "                (pad): ReflectionPad2d((1, 1, 1, 1))\n",
       "                (norm): AdaptiveInstanceNorm2d(512)\n",
       "                (activation): ReLU()\n",
       "                (conv): Conv2d(512, 512, kernel_size=(3, 3), stride=(1, 1))\n",
       "              )\n",
       "              (1): Conv2dBlock(\n",
       "                (pad): ReflectionPad2d((1, 1, 1, 1))\n",
       "                (norm): AdaptiveInstanceNorm2d(512)\n",
       "                (conv): Conv2d(512, 512, kernel_size=(3, 3), stride=(1, 1))\n",
       "              )\n",
       "            )\n",
       "          )\n",
       "        )\n",
       "      )\n",
       "      (1): Upsample(scale_factor=2.0, mode='nearest')\n",
       "      (2): Conv2dBlock(\n",
       "        (pad): ReflectionPad2d((2, 2, 2, 2))\n",
       "        (norm): InstanceNorm2d(256, eps=1e-05, momentum=0.1, affine=False, track_running_stats=False)\n",
       "        (activation): ReLU()\n",
       "        (conv): Conv2d(512, 256, kernel_size=(5, 5), stride=(1, 1))\n",
       "      )\n",
       "      (3): Upsample(scale_factor=2.0, mode='nearest')\n",
       "      (4): Conv2dBlock(\n",
       "        (pad): ReflectionPad2d((2, 2, 2, 2))\n",
       "        (norm): InstanceNorm2d(128, eps=1e-05, momentum=0.1, affine=False, track_running_stats=False)\n",
       "        (activation): ReLU()\n",
       "        (conv): Conv2d(256, 128, kernel_size=(5, 5), stride=(1, 1))\n",
       "      )\n",
       "      (5): Upsample(scale_factor=2.0, mode='nearest')\n",
       "      (6): Conv2dBlock(\n",
       "        (pad): ReflectionPad2d((2, 2, 2, 2))\n",
       "        (norm): InstanceNorm2d(64, eps=1e-05, momentum=0.1, affine=False, track_running_stats=False)\n",
       "        (activation): ReLU()\n",
       "        (conv): Conv2d(128, 64, kernel_size=(5, 5), stride=(1, 1))\n",
       "      )\n",
       "      (7): Conv2dBlock(\n",
       "        (pad): ReflectionPad2d((3, 3, 3, 3))\n",
       "        (activation): Tanh()\n",
       "        (conv): Conv2d(64, 1, kernel_size=(7, 7), stride=(1, 1))\n",
       "      )\n",
       "    )\n",
       "  )\n",
       "  (linear_mix): Linear(in_features=1024, out_features=512, bias=True)\n",
       ")"
      ]
     },
     "execution_count": 5,
     "metadata": {},
     "output_type": "execute_result"
    }
   ],
   "source": [
    "gen_model = GenModel_FC(tokenizer.maxlen, tokenizer.vocab_size, tokenizer.PAD)\n",
    "gen_model.load_state_dict(torch.load('./gen_model.model')) #load\n",
    "gen_model.eval()"
   ]
  },
  {
   "cell_type": "code",
   "execution_count": 6,
   "metadata": {},
   "outputs": [],
   "source": [
    "transforms = transforms.Compose([\n",
    "            transforms.ToTensor(),\n",
    "            transforms.Normalize(mean=[0.5], std=[0.5])\n",
    "        ])"
   ]
  },
  {
   "cell_type": "code",
   "execution_count": 7,
   "metadata": {},
   "outputs": [
    {
     "name": "stdout",
     "output_type": "stream",
     "text": [
      "12\n"
     ]
    }
   ],
   "source": [
    "imgs = []\n",
    "gen_inputs = []\n",
    "labels_ = []\n",
    "print(len(img_paths))\n"
   ]
  },
  {
   "cell_type": "code",
   "execution_count": 8,
   "metadata": {},
   "outputs": [],
   "source": [
    "for idx, img_path in enumerate(img_paths):\n",
    "    print(idx)\n",
    "    img_path = \"../../\" + img_path\n",
    "    img_path = img_path.replace(\"/\", \"\\\\\")\n",
    "    print(img_path, os.getcwd())\n",
    "    img = 255 - cv2.imread(img_path, cv2.IMREAD_GRAYSCALE)\n",
    "    print(img.shape)\n",
    "    img = transforms(img)\n",
    "    print(img.shape)\n",
    "    gen_input = copy_style_imgs(img)\n",
    "    print(gen_input.shape)\n",
    "\n",
    "    label = tokenizer.encode(labels[idx])\n",
    "    imgs.append(img)\n",
    "    gen_inputs.append(gen_inputs)\n",
    "    labels_.append(label)\n",
    "\n",
    "print(np.asarray(gen_inputs).shape)"
   ]
  }
 ],
 "metadata": {
  "kernelspec": {
   "display_name": "python_310_env",
   "language": "python",
   "name": "python3"
  },
  "language_info": {
   "codemirror_mode": {
    "name": "ipython",
    "version": 3
   },
   "file_extension": ".py",
   "mimetype": "text/x-python",
   "name": "python",
   "nbconvert_exporter": "python",
   "pygments_lexer": "ipython3",
   "version": "3.10.13"
  }
 },
 "nbformat": 4,
 "nbformat_minor": 2
}
