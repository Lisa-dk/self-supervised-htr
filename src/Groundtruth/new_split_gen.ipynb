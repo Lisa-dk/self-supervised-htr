{
 "cells": [
  {
   "cell_type": "code",
   "execution_count": 50,
   "metadata": {},
   "outputs": [],
   "source": [
    "import numpy as np\n",
    "import os, sys\n",
    "import random"
   ]
  },
  {
   "cell_type": "code",
   "execution_count": 51,
   "metadata": {},
   "outputs": [],
   "source": [
    "with open(\"gan.iam.tr_va.gt.filter27\", 'r') as f_tr:\n",
    "    data_tr = f_tr.readlines()\n",
    "    data_tr = [i.strip().split(' ') for i in data_tr]\n",
    "    tr_dict = dict()\n",
    "    for i in data_tr:\n",
    "        wid = i[0].split(',')[0]\n",
    "        if wid not in tr_dict.keys():\n",
    "            tr_dict[wid] = [i]\n",
    "        else:\n",
    "            tr_dict[wid].append(i)"
   ]
  },
  {
   "cell_type": "code",
   "execution_count": 52,
   "metadata": {},
   "outputs": [],
   "source": [
    "with open(\"gan.iam.test.gt.filter27\", 'r') as f_te:\n",
    "    data_te = f_te.readlines()\n",
    "    data_te = [i.strip().split(' ') for i in data_te]\n",
    "    te_dict = dict()\n",
    "    for i in data_te:\n",
    "        wid = i[0].split(',')[0]\n",
    "        if wid not in te_dict.keys():\n",
    "            te_dict[wid] = [i]\n",
    "        else:\n",
    "            te_dict[wid].append(i)"
   ]
  },
  {
   "cell_type": "code",
   "execution_count": 53,
   "metadata": {},
   "outputs": [],
   "source": [
    "tr_wids = [key for key in tr_dict.keys()]\n",
    "te_wids = [key for key in te_dict.keys()]\n",
    "\n",
    "for wid in te_wids:\n",
    "    if wid in tr_wids:\n",
    "        print(wid)"
   ]
  },
  {
   "cell_type": "code",
   "execution_count": 54,
   "metadata": {},
   "outputs": [
    {
     "name": "stdout",
     "output_type": "stream",
     "text": [
      "['049,a03-034-00-00', 'Members']\n"
     ]
    }
   ],
   "source": [
    "print(tr_dict['049'][0])"
   ]
  },
  {
   "cell_type": "code",
   "execution_count": 55,
   "metadata": {},
   "outputs": [],
   "source": [
    "gan_tr_f = \"gan.iam.gan_tr_va.filter27\"\n",
    "htr_f = \"htr.iam.all.filter27\"\n",
    "\n",
    "for wid in tr_dict.keys():\n",
    "    split_idx = len(tr_dict[wid]) // 2\n",
    "    \n",
    "    with open(gan_tr_f, 'a') as f_gan:\n",
    "        for idx in range(0, split_idx):\n",
    "            f_gan.write(tr_dict[wid][idx][0] + ' ' + tr_dict[wid][idx][1] + '\\n')\n",
    "    \n",
    "    with open(htr_f, 'a') as f_htr:\n",
    "        for idx in range(split_idx, len(tr_dict[wid])):\n",
    "            _, img_name = tr_dict[wid][idx][0].split(',')\n",
    "            f1, f2, _, _ = img_name.split('-')\n",
    "            img_path = os.path.join(f1, f1 + '-' + f2, img_name + '.png')\n",
    "            f_htr.write(wid + ',' + img_path + ' ' + tr_dict[wid][idx][1] + '\\n')"
   ]
  },
  {
   "cell_type": "code",
   "execution_count": 56,
   "metadata": {},
   "outputs": [],
   "source": [
    "gan_te_f = \"gan.iam.gan_test.filter27\"\n",
    "\n",
    "for wid in te_dict.keys():\n",
    "    split_idx = len(te_dict[wid]) // 2\n",
    "\n",
    "    with open(gan_te_f, 'a') as f_gan_te:\n",
    "        for idx in range(0, split_idx):\n",
    "            f_gan_te.write(te_dict[wid][idx][0] + ' ' + te_dict[wid][idx][1] + '\\n')\n",
    "\n",
    "    with open(htr_f, 'a') as f_htr:\n",
    "        for idx in range(split_idx, len(te_dict[wid])):\n",
    "            _, img_name = te_dict[wid][idx][0].split(',')\n",
    "            f1, f2, _, _ = img_name.split('-')\n",
    "            img_path = os.path.join(f1, f1 + '-' + f2, img_name + '.png')\n",
    "            f_htr.write(wid + ',' + img_path + ' ' + te_dict[wid][idx][1] + '\\n')"
   ]
  },
  {
   "cell_type": "code",
   "execution_count": 57,
   "metadata": {},
   "outputs": [],
   "source": [
    "with open(htr_f, 'r') as f_htr:\n",
    "    data_tr = f_htr.readlines()\n",
    "    data_tr = [i.strip().split(' ') for i in data_tr]\n",
    "    tr_dict = dict()\n",
    "    for i in data_tr:\n",
    "        wid = i[0].split(',')[0]\n",
    "        if wid not in tr_dict.keys():\n",
    "            tr_dict[wid] = [i]\n",
    "        else:\n",
    "            tr_dict[wid].append(i)"
   ]
  },
  {
   "cell_type": "code",
   "execution_count": 58,
   "metadata": {},
   "outputs": [],
   "source": [
    "htr_te_f = \"htr.iam.val.filter27\"\n",
    "htr_tr_f = \"htr.iam.train.filter27\"\n",
    "\n",
    "for wid in tr_dict.keys():\n",
    "    split_idx = len(tr_dict[wid]) // 5\n",
    "\n",
    "    if split_idx > 0:\n",
    "        with open(htr_te_f, 'a') as f_htr_te:\n",
    "            for idx in range(0, split_idx):\n",
    "                f_htr_te.write(tr_dict[wid][idx][0] + ' ' + tr_dict[wid][idx][1] + '\\n')\n",
    "\n",
    "        with open(htr_tr_f, 'a') as f_htr_tr:\n",
    "            for idx in range(split_idx, len(tr_dict[wid])):\n",
    "                f_htr_tr.write(tr_dict[wid][idx][0] + ' ' + tr_dict[wid][idx][1] + '\\n')"
   ]
  },
  {
   "cell_type": "code",
   "execution_count": 59,
   "metadata": {},
   "outputs": [],
   "source": [
    "with open(htr_tr_f, 'r') as f_htr:\n",
    "    data_tr = f_htr.readlines()\n",
    "    data_tr = [i.strip().split(' ') for i in data_tr]\n",
    "    tr_dict = dict()\n",
    "    for i in data_tr:\n",
    "        wid = i[0].split(',')[0]\n",
    "        if wid not in tr_dict.keys():\n",
    "            tr_dict[wid] = [i]\n",
    "        else:\n",
    "            tr_dict[wid].append(i)\n",
    "\n",
    "htr_te_f = \"htr.iam.test.filter27\"\n",
    "htr_tr_f = \"htr.iam.train_noval.filter27\"\n",
    "\n",
    "for wid in tr_dict.keys():\n",
    "    split_idx = len(tr_dict[wid]) // 5\n",
    "\n",
    "    if split_idx > 0:\n",
    "        with open(htr_te_f, 'a') as f_htr_te:\n",
    "            for idx in range(0, split_idx):\n",
    "                f_htr_te.write(tr_dict[wid][idx][0] + ' ' + tr_dict[wid][idx][1] + '\\n')\n",
    "\n",
    "        with open(htr_tr_f, 'a') as f_htr_tr:\n",
    "            for idx in range(split_idx, len(tr_dict[wid])):\n",
    "                f_htr_tr.write(tr_dict[wid][idx][0] + ' ' + tr_dict[wid][idx][1] + '\\n')"
   ]
  },
  {
   "cell_type": "code",
   "execution_count": 60,
   "metadata": {},
   "outputs": [],
   "source": [
    "# te_wids = [key for key in te_dict.keys()]\n",
    "\n",
    "# random.seed(42)\n",
    "# wids_te = random.sample(te_wids, len(te_wids) // 2)\n",
    "\n",
    "# wids_tr = [wid for wid in te_wids if wid not in wids_te]\n",
    "\n",
    "\n",
    "\n",
    "# for wid in wids_te:\n",
    "#     with open(gan_te_f, 'a') as f_gan_te:\n",
    "#         for idx in range(len(te_dict[wid])):\n",
    "#             f_gan_te.write(te_dict[wid][idx][0] + ' ' + te_dict[wid][idx][1] + '\\n')\n",
    "\n",
    "# for wid in wids_tr:\n",
    "#     with open(gan_tr_f, 'a') as f_gan_tr:\n",
    "#         for idx in range(len(te_dict[wid])):\n",
    "#             f_gan_tr.write(te_dict[wid][idx][0] + ' ' + te_dict[wid][idx][1] + '\\n')"
   ]
  },
  {
   "cell_type": "code",
   "execution_count": 61,
   "metadata": {},
   "outputs": [
    {
     "ename": "FileNotFoundError",
     "evalue": "[Errno 2] No such file or directory: 'htr.iam.tr_va.filter27'",
     "output_type": "error",
     "traceback": [
      "\u001b[0;31m---------------------------------------------------------------------------\u001b[0m",
      "\u001b[0;31mFileNotFoundError\u001b[0m                         Traceback (most recent call last)",
      "Cell \u001b[0;32mIn[61], line 1\u001b[0m\n\u001b[0;32m----> 1\u001b[0m \u001b[38;5;28;01mwith\u001b[39;00m \u001b[38;5;28;43mopen\u001b[39;49m\u001b[43m(\u001b[49m\u001b[38;5;124;43m\"\u001b[39;49m\u001b[38;5;124;43mhtr.iam.tr_va.filter27\u001b[39;49m\u001b[38;5;124;43m\"\u001b[39;49m\u001b[43m,\u001b[49m\u001b[43m \u001b[49m\u001b[38;5;124;43m'\u001b[39;49m\u001b[38;5;124;43mr\u001b[39;49m\u001b[38;5;124;43m'\u001b[39;49m\u001b[43m)\u001b[49m \u001b[38;5;28;01mas\u001b[39;00m f_te:\n\u001b[1;32m      2\u001b[0m     data_te \u001b[38;5;241m=\u001b[39m f_te\u001b[38;5;241m.\u001b[39mreadlines()\n\u001b[1;32m      3\u001b[0m     data_te \u001b[38;5;241m=\u001b[39m [i\u001b[38;5;241m.\u001b[39mstrip()\u001b[38;5;241m.\u001b[39msplit(\u001b[38;5;124m'\u001b[39m\u001b[38;5;124m \u001b[39m\u001b[38;5;124m'\u001b[39m) \u001b[38;5;28;01mfor\u001b[39;00m i \u001b[38;5;129;01min\u001b[39;00m data_te]\n",
      "File \u001b[0;32m~/Library/Python/3.11/lib/python/site-packages/IPython/core/interactiveshell.py:282\u001b[0m, in \u001b[0;36m_modified_open\u001b[0;34m(file, *args, **kwargs)\u001b[0m\n\u001b[1;32m    275\u001b[0m \u001b[38;5;28;01mif\u001b[39;00m file \u001b[38;5;129;01min\u001b[39;00m {\u001b[38;5;241m0\u001b[39m, \u001b[38;5;241m1\u001b[39m, \u001b[38;5;241m2\u001b[39m}:\n\u001b[1;32m    276\u001b[0m     \u001b[38;5;28;01mraise\u001b[39;00m \u001b[38;5;167;01mValueError\u001b[39;00m(\n\u001b[1;32m    277\u001b[0m         \u001b[38;5;124mf\u001b[39m\u001b[38;5;124m\"\u001b[39m\u001b[38;5;124mIPython won\u001b[39m\u001b[38;5;124m'\u001b[39m\u001b[38;5;124mt let you open fd=\u001b[39m\u001b[38;5;132;01m{\u001b[39;00mfile\u001b[38;5;132;01m}\u001b[39;00m\u001b[38;5;124m by default \u001b[39m\u001b[38;5;124m\"\u001b[39m\n\u001b[1;32m    278\u001b[0m         \u001b[38;5;124m\"\u001b[39m\u001b[38;5;124mas it is likely to crash IPython. If you know what you are doing, \u001b[39m\u001b[38;5;124m\"\u001b[39m\n\u001b[1;32m    279\u001b[0m         \u001b[38;5;124m\"\u001b[39m\u001b[38;5;124myou can use builtins\u001b[39m\u001b[38;5;124m'\u001b[39m\u001b[38;5;124m open.\u001b[39m\u001b[38;5;124m\"\u001b[39m\n\u001b[1;32m    280\u001b[0m     )\n\u001b[0;32m--> 282\u001b[0m \u001b[38;5;28;01mreturn\u001b[39;00m \u001b[43mio_open\u001b[49m\u001b[43m(\u001b[49m\u001b[43mfile\u001b[49m\u001b[43m,\u001b[49m\u001b[43m \u001b[49m\u001b[38;5;241;43m*\u001b[39;49m\u001b[43margs\u001b[49m\u001b[43m,\u001b[49m\u001b[43m \u001b[49m\u001b[38;5;241;43m*\u001b[39;49m\u001b[38;5;241;43m*\u001b[39;49m\u001b[43mkwargs\u001b[49m\u001b[43m)\u001b[49m\n",
      "\u001b[0;31mFileNotFoundError\u001b[0m: [Errno 2] No such file or directory: 'htr.iam.tr_va.filter27'"
     ]
    }
   ],
   "source": [
    "with open(\"htr.iam.tr_va.filter27\", 'r') as f_te:\n",
    "    data_te = f_te.readlines()\n",
    "    data_te = [i.strip().split(' ') for i in data_te]\n",
    "    te_dict = dict()\n",
    "    for i in data_te:\n",
    "        wid = i[0].split(',')[0]\n",
    "        if wid not in te_dict.keys():\n",
    "            te_dict[wid] = [i]\n",
    "        else:\n",
    "            te_dict[wid].append(i)\n",
    "\n",
    "lens = [len(te_dict[wid]) for wid in te_dict.keys()]\n",
    "print(min(lens))"
   ]
  },
  {
   "cell_type": "code",
   "execution_count": null,
   "metadata": {},
   "outputs": [
    {
     "name": "stdout",
     "output_type": "stream",
     "text": [
      "9\n"
     ]
    }
   ],
   "source": [
    "with open(\"htr.iam.test.filter27\", 'r') as f_te:\n",
    "    data_te = f_te.readlines()\n",
    "    data_te = [i.strip().split(' ') for i in data_te]\n",
    "    te_dict = dict()\n",
    "    for i in data_te:\n",
    "        wid = i[0].split(',')[0]\n",
    "        if wid not in te_dict.keys():\n",
    "            te_dict[wid] = [i]\n",
    "        else:\n",
    "            te_dict[wid].append(i)\n",
    "\n",
    "lens = [len(te_dict[wid]) for wid in te_dict.keys()]\n",
    "print(min(lens))"
   ]
  }
 ],
 "metadata": {
  "kernelspec": {
   "display_name": "py311",
   "language": "python",
   "name": "python3"
  },
  "language_info": {
   "codemirror_mode": {
    "name": "ipython",
    "version": 3
   },
   "file_extension": ".py",
   "mimetype": "text/x-python",
   "name": "python",
   "nbconvert_exporter": "python",
   "pygments_lexer": "ipython3",
   "version": "3.11.2"
  }
 },
 "nbformat": 4,
 "nbformat_minor": 2
}
