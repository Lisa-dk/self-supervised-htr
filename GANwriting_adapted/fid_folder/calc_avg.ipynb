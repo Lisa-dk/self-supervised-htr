{
 "cells": [
  {
   "cell_type": "code",
   "execution_count": 5,
   "metadata": {},
   "outputs": [
    {
     "name": "stdout",
     "output_type": "stream",
     "text": [
      "avg fid:  173.51477026977233\n",
      "overall fid: 47.904762360154024\n"
     ]
    }
   ],
   "source": [
    "avg_fid = 0.0\n",
    "with open(\"./fid_calc.csv\") as f:\n",
    "    lines = f.read().splitlines()\n",
    "\n",
    "    for line in lines:\n",
    "        fid = line.split(\" \")[1]\n",
    "        avg_fid += float(fid)\n",
    "\n",
    "print(\"avg fid: \", avg_fid / len(lines))\n"
   ]
  }
 ],
 "metadata": {
  "kernelspec": {
   "display_name": "python_310_env",
   "language": "python",
   "name": "python3"
  },
  "language_info": {
   "codemirror_mode": {
    "name": "ipython",
    "version": 3
   },
   "file_extension": ".py",
   "mimetype": "text/x-python",
   "name": "python",
   "nbconvert_exporter": "python",
   "pygments_lexer": "ipython3",
   "version": "3.10.13"
  }
 },
 "nbformat": 4,
 "nbformat_minor": 2
}
